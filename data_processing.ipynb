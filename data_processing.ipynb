{
 "cells": [
  {
   "cell_type": "markdown",
   "metadata": {},
   "source": [
    "**Data consist of geometric shapes with a total of 13 target labels**"
   ]
  },
  {
   "cell_type": "code",
   "execution_count": 1,
   "metadata": {},
   "outputs": [],
   "source": [
    "import zipfile\n",
    "# Open the zip file\n",
    "with zipfile.ZipFile(\"data.zip\", 'r') as zip_ref:\n",
    "    # Extract all the contents\n",
    "    zip_ref.extractall()"
   ]
  },
  {
   "cell_type": "code",
   "execution_count": 2,
   "metadata": {},
   "outputs": [],
   "source": [
    "import pandas as pd\n",
    "import numpy as np\n",
    "import matplotlib.pyplot as plt\n",
    "import matplotlib.image as mpimg"
   ]
  },
  {
   "cell_type": "code",
   "execution_count": 3,
   "metadata": {},
   "outputs": [
    {
     "data": {
      "text/plain": [
       "{'circle': 0,\n",
       " 'cross': 1,\n",
       " 'heptagon': 2,\n",
       " 'hexagon': 3,\n",
       " 'octagon': 4,\n",
       " 'pentagon': 5,\n",
       " 'quartercircle': 6,\n",
       " 'rectangle': 7,\n",
       " 'semicircle': 8,\n",
       " 'square': 9,\n",
       " 'star': 10,\n",
       " 'trapezoid': 11,\n",
       " 'triangle': 12}"
      ]
     },
     "execution_count": 3,
     "metadata": {},
     "output_type": "execute_result"
    }
   ],
   "source": [
    "# Read csv\n",
    "train_df = pd.read_csv(\"data/train/_classes.csv\", sep=', ', engine=\"python\")\n",
    "\n",
    "# Mapping int to categories\n",
    "CLASSES = train_df.columns[1:]\n",
    "CLASSES_INT = np.arange(len(CLASSES))\n",
    "cat_to_int = dict(list(zip(CLASSES,CLASSES_INT)))\n",
    "int_to_cat = dict(list(zip(CLASSES_INT,CLASSES)))\n",
    "cat_to_int"
   ]
  },
  {
   "cell_type": "code",
   "execution_count": 4,
   "metadata": {},
   "outputs": [
    {
     "data": {
      "text/html": [
       "<div>\n",
       "<style scoped>\n",
       "    .dataframe tbody tr th:only-of-type {\n",
       "        vertical-align: middle;\n",
       "    }\n",
       "\n",
       "    .dataframe tbody tr th {\n",
       "        vertical-align: top;\n",
       "    }\n",
       "\n",
       "    .dataframe thead th {\n",
       "        text-align: right;\n",
       "    }\n",
       "</style>\n",
       "<table border=\"1\" class=\"dataframe\">\n",
       "  <thead>\n",
       "    <tr style=\"text-align: right;\">\n",
       "      <th></th>\n",
       "      <th>filename</th>\n",
       "      <th>circle</th>\n",
       "      <th>cross</th>\n",
       "      <th>heptagon</th>\n",
       "      <th>hexagon</th>\n",
       "      <th>octagon</th>\n",
       "      <th>pentagon</th>\n",
       "      <th>quartercircle</th>\n",
       "      <th>rectangle</th>\n",
       "      <th>semicircle</th>\n",
       "      <th>square</th>\n",
       "      <th>star</th>\n",
       "      <th>trapezoid</th>\n",
       "      <th>triangle</th>\n",
       "    </tr>\n",
       "  </thead>\n",
       "  <tbody>\n",
       "    <tr>\n",
       "      <th>0</th>\n",
       "      <td>270rectangle_rad_50_jpg.rf.d8cb2e97f51001739f9...</td>\n",
       "      <td>0</td>\n",
       "      <td>0</td>\n",
       "      <td>0</td>\n",
       "      <td>0</td>\n",
       "      <td>0</td>\n",
       "      <td>0</td>\n",
       "      <td>0</td>\n",
       "      <td>1</td>\n",
       "      <td>0</td>\n",
       "      <td>0</td>\n",
       "      <td>0</td>\n",
       "      <td>0</td>\n",
       "      <td>0</td>\n",
       "    </tr>\n",
       "    <tr>\n",
       "      <th>1</th>\n",
       "      <td>135trapezoid_rad_30_jpg.rf.cfdc844471c790910d3...</td>\n",
       "      <td>0</td>\n",
       "      <td>0</td>\n",
       "      <td>0</td>\n",
       "      <td>0</td>\n",
       "      <td>0</td>\n",
       "      <td>0</td>\n",
       "      <td>0</td>\n",
       "      <td>0</td>\n",
       "      <td>0</td>\n",
       "      <td>0</td>\n",
       "      <td>0</td>\n",
       "      <td>1</td>\n",
       "      <td>0</td>\n",
       "    </tr>\n",
       "    <tr>\n",
       "      <th>2</th>\n",
       "      <td>180semicircle_rad_30_jpg.rf.d4bae55fadaf466b67...</td>\n",
       "      <td>0</td>\n",
       "      <td>0</td>\n",
       "      <td>0</td>\n",
       "      <td>0</td>\n",
       "      <td>0</td>\n",
       "      <td>0</td>\n",
       "      <td>0</td>\n",
       "      <td>0</td>\n",
       "      <td>1</td>\n",
       "      <td>0</td>\n",
       "      <td>0</td>\n",
       "      <td>0</td>\n",
       "      <td>0</td>\n",
       "    </tr>\n",
       "    <tr>\n",
       "      <th>3</th>\n",
       "      <td>trapezoid_rad_200_jpg.rf.cb30863a474e4ec4fb563...</td>\n",
       "      <td>0</td>\n",
       "      <td>0</td>\n",
       "      <td>0</td>\n",
       "      <td>0</td>\n",
       "      <td>0</td>\n",
       "      <td>0</td>\n",
       "      <td>0</td>\n",
       "      <td>0</td>\n",
       "      <td>0</td>\n",
       "      <td>0</td>\n",
       "      <td>0</td>\n",
       "      <td>1</td>\n",
       "      <td>0</td>\n",
       "    </tr>\n",
       "    <tr>\n",
       "      <th>4</th>\n",
       "      <td>135square_rad_50_jpg.rf.d7fde9eaaaedc0d4fe75f2...</td>\n",
       "      <td>0</td>\n",
       "      <td>0</td>\n",
       "      <td>0</td>\n",
       "      <td>0</td>\n",
       "      <td>0</td>\n",
       "      <td>0</td>\n",
       "      <td>0</td>\n",
       "      <td>0</td>\n",
       "      <td>0</td>\n",
       "      <td>1</td>\n",
       "      <td>0</td>\n",
       "      <td>0</td>\n",
       "      <td>0</td>\n",
       "    </tr>\n",
       "  </tbody>\n",
       "</table>\n",
       "</div>"
      ],
      "text/plain": [
       "                                            filename  circle  cross  heptagon  \\\n",
       "0  270rectangle_rad_50_jpg.rf.d8cb2e97f51001739f9...       0      0         0   \n",
       "1  135trapezoid_rad_30_jpg.rf.cfdc844471c790910d3...       0      0         0   \n",
       "2  180semicircle_rad_30_jpg.rf.d4bae55fadaf466b67...       0      0         0   \n",
       "3  trapezoid_rad_200_jpg.rf.cb30863a474e4ec4fb563...       0      0         0   \n",
       "4  135square_rad_50_jpg.rf.d7fde9eaaaedc0d4fe75f2...       0      0         0   \n",
       "\n",
       "   hexagon  octagon  pentagon  quartercircle  rectangle  semicircle  square  \\\n",
       "0        0        0         0              0          1           0       0   \n",
       "1        0        0         0              0          0           0       0   \n",
       "2        0        0         0              0          0           1       0   \n",
       "3        0        0         0              0          0           0       0   \n",
       "4        0        0         0              0          0           0       1   \n",
       "\n",
       "   star  trapezoid  triangle  \n",
       "0     0          0         0  \n",
       "1     0          1         0  \n",
       "2     0          0         0  \n",
       "3     0          1         0  \n",
       "4     0          0         0  "
      ]
     },
     "execution_count": 4,
     "metadata": {},
     "output_type": "execute_result"
    }
   ],
   "source": [
    "train_df.head()"
   ]
  },
  {
   "cell_type": "markdown",
   "metadata": {},
   "source": [
    "**Reshaping the data format**\n",
    "\n",
    "The CSV file of the original dataset contains two columns: the filename and the corresponding category. \n",
    "\n",
    "We apply two main transformation:\n",
    "\n",
    "1. We wap the one hot encoding format to integer categories to obtain our target variable y.\n",
    "2. We transform the jpg images in an np array X.\n",
    "\n",
    "Note: Originally all images are 640 pixels by 640 pixels. \n",
    "Each pixel is dimension 3 : [R,G,B] but we reduce the dimension in order to have only black and white images.\n"
   ]
  },
  {
   "cell_type": "code",
   "execution_count": 5,
   "metadata": {},
   "outputs": [
    {
     "name": "stdout",
     "output_type": "stream",
     "text": [
      "(640, 640, 3)\n"
     ]
    },
    {
     "data": {
      "image/png": "[encoded data removed]",
      "text/plain": [
       "<Figure size 640x480 with 1 Axes>"
      ]
     },
     "metadata": {},
     "output_type": "display_data"
    }
   ],
   "source": [
    "#We transfer all the names of the images into `X_train_names`.\n",
    "X_train_names = np.array(train_df['filename'])\n",
    "# Read Image name\n",
    "index = 3\n",
    "img_name = X_train_names[index]\n",
    "\n",
    "# Read Image\n",
    "img = mpimg.imread(\"data/train/\" + img_name)\n",
    "\n",
    "# Output Image\n",
    "plt.imshow(img)\n",
    "#shape \n",
    "print(img.shape)"
   ]
  },
  {
   "cell_type": "markdown",
   "metadata": {},
   "source": [
    "All images are 640 pixels by 640 pixels. \n",
    "Each pixel is dimension 3 : [R,G,B]. \n",
    "Here, the figure is white, i.e. [255,255,255], so we can reduce the dimension in order to have only black and white images.\n",
    "\n"
   ]
  },
  {
   "cell_type": "code",
   "execution_count": 6,
   "metadata": {},
   "outputs": [
    {
     "data": {
      "text/plain": [
       "(314, 640, 640)"
      ]
     },
     "execution_count": 6,
     "metadata": {},
     "output_type": "execute_result"
    }
   ],
   "source": [
    "#Create X_train\n",
    "def name_to_array(img_name, path=\"data/train/\"):\n",
    "    img = mpimg.imread(path + img_name)\n",
    "    return img[:,:,0]\n",
    "X_train = np.array(list(map(name_to_array,X_train_names)))\n",
    "X_train.shape"
   ]
  },
  {
   "cell_type": "code",
   "execution_count": 7,
   "metadata": {},
   "outputs": [
    {
     "data": {
      "text/plain": [
       "array([ 7, 11,  8, 11,  9, 11, 10,  0,  4,  9,  3,  6,  8,  8,  3,  0, 10,\n",
       "        8, 11,  5,  0,  7,  5,  7, 12, 12,  4,  2,  9,  2, 12,  3, 10,  3,\n",
       "       10,  0,  4,  5,  8,  1,  2,  9,  4, 11,  4,  0,  3,  8,  2, 11,  0,\n",
       "        0,  3,  7, 12,  6, 12, 11,  9,  7, 12,  4,  1, 12, 12,  1,  8,  1,\n",
       "       10,  4, 11,  7, 11,  2,  2, 12,  4, 10, 10,  3, 10, 12,  1,  4, 12,\n",
       "        0, 10, 12,  3, 10,  5, 12, 10,  5,  1,  1,  6, 11,  1,  6,  8,  2,\n",
       "       10,  5, 11, 10, 11, 10,  2,  8,  6,  3,  2,  8,  5, 10,  8,  7,  1,\n",
       "       11, 12,  2,  6,  9,  1, 12, 11,  1,  6,  9,  7, 11,  9,  8, 10, 11,\n",
       "        5,  6,  5,  3,  3,  5, 11,  4,  1, 12,  7, 12,  2,  8,  1,  6,  0,\n",
       "       12,  1,  1, 11,  2, 10,  5,  3,  5, 10,  5,  9, 10,  2,  7,  3,  0,\n",
       "        2,  7,  9,  0, 12,  2,  7,  0, 11,  1,  2, 11, 12, 11,  6,  6,  6,\n",
       "        1, 11,  1,  6,  7,  9,  3,  6, 12, 11,  3, 12,  1,  7,  2,  7, 11,\n",
       "        4, 11,  1,  1,  0,  0, 11,  1,  0,  7,  6,  8, 12,  7,  9,  4,  4,\n",
       "        0,  3,  8,  7,  2, 11,  5,  5,  8,  2,  0,  6,  6,  3,  6,  1, 11,\n",
       "        7,  4,  3,  7,  1,  0,  4,  2, 11,  2,  1,  7,  7,  2,  0,  9,  6,\n",
       "        6,  0, 11, 10, 10,  7,  7, 11,  8,  4,  5,  0,  7,  7, 11,  2,  6,\n",
       "        7,  5,  9,  8,  9,  4,  3,  2, 11,  5,  3, 11, 10,  2, 12,  6,  7,\n",
       "       11,  1,  6,  1, 12,  5, 11, 10,  8,  0,  2, 12,  8,  1,  9,  3,  9,\n",
       "        5,  7,  6,  3,  9,  4,  8,  6])"
      ]
     },
     "execution_count": 7,
     "metadata": {},
     "output_type": "execute_result"
    }
   ],
   "source": [
    "# Create y_train\n",
    "# Mapping into categories\n",
    "n,m = train_df.shape\n",
    "y_train = np.zeros(n,'int')\n",
    "\n",
    "for i in range(n):\n",
    "    row = train_df.loc[i]\n",
    "    y_train[i] = np.argmax(row[1:])\n",
    "\n",
    "y_train"
   ]
  },
  {
   "cell_type": "code",
   "execution_count": 8,
   "metadata": {},
   "outputs": [
    {
     "data": {
      "text/plain": [
       "(44, 640, 640)"
      ]
     },
     "execution_count": 8,
     "metadata": {},
     "output_type": "execute_result"
    }
   ],
   "source": [
    "test_df = pd.read_csv(\"data/test/_classes.csv\", sep=', ', engine=\"python\")\n",
    "X_test_names = np.array(test_df['filename'])\n",
    "#Create X_test\n",
    "def name_to_array(img_name, path=\"data/test/\"):\n",
    "    img = mpimg.imread(path + img_name)\n",
    "    return img[:,:,0]\n",
    "X_test = np.array(list(map(name_to_array,X_test_names)))\n",
    "X_test.shape"
   ]
  },
  {
   "cell_type": "code",
   "execution_count": 9,
   "metadata": {},
   "outputs": [
    {
     "data": {
      "text/plain": [
       "array([ 7, 11,  8, 11,  9, 11, 10,  0,  4,  9,  3,  6,  8,  8,  3,  0, 10,\n",
       "        8, 11,  5,  0,  7,  5,  7, 12, 12,  4,  2,  9,  2, 12,  3, 10,  3,\n",
       "       10,  0,  4,  5,  8,  1,  2,  9,  4, 11])"
      ]
     },
     "execution_count": 9,
     "metadata": {},
     "output_type": "execute_result"
    }
   ],
   "source": [
    "# Create y_test\n",
    "# Mapping into categories\n",
    "n,m = test_df.shape\n",
    "y_test = np.zeros(n,'int')\n",
    "\n",
    "for i in range(n):\n",
    "    row = train_df.loc[i]\n",
    "    y_test[i] = np.argmax(row[1:])\n",
    "\n",
    "y_test"
   ]
  },
  {
   "cell_type": "code",
   "execution_count": 10,
   "metadata": {},
   "outputs": [],
   "source": [
    "# Saving data\n",
    "np.save(\"data/X_train.npy\", X_train)\n",
    "pd.DataFrame({\"y_train\" : y_train}).to_csv(\"data/y_train.csv\",index=False)\n",
    "np.save(\"data/X_test.npy\", X_test)\n",
    "pd.DataFrame({\"y_test\" : y_test}).to_csv(\"data/y_test.csv\",index=False)"
   ]
  }
 ],
 "metadata": {
  "kernelspec": {
   "display_name": "Python 3",
   "language": "python",
   "name": "python3"
  },
  "language_info": {
   "codemirror_mode": {
    "name": "ipython",
    "version": 3
   },
   "file_extension": ".py",
   "mimetype": "text/x-python",
   "name": "python",
   "nbconvert_exporter": "python",
   "pygments_lexer": "ipython3",
   "version": "3.9.13"
  }
 },
 "nbformat": 4,
 "nbformat_minor": 2
}
